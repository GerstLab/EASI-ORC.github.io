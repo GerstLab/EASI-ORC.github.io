{
  "cells": [
    {
      "cell_type": "code",
      "execution_count": null,
      "metadata": {
        "cellView": "form",
        "id": "UkPtRrI1kFDq"
      },
      "outputs": [],
      "source": [
        "#@title Module version control (Run this cell only if code dosen't run properly)\n",
        "\n",
        "# !pip install pandas==1.5.3\n",
        "# !pip install matplotlib==3.7.1\n",
        "# !pip install numpy==1.22.4\n",
        "# !pip install ipywidgets==7.7.1\n",
        "# !pip install google==2.0.3\n",
        "# !pip install scipy==1.10.1"
      ]
    },
    {
      "cell_type": "markdown",
      "metadata": {
        "id": "1W51A53ZOWQk"
      },
      "source": [
        "# Welcome to the EASI-ORC data analysis tool!\n",
        "Please read the instructions carefully before each step.\n",
        "\n",
        "Some things to keep in mind:\n",
        "1.   Before you can start using the tool-set you must create a copy that will be saved under your google account (File > save a copy in drive).\n",
        "2.   Always start from a clean slate. Use Runtime > Disconnect and delete runtime to remove all uploaded and saved files and Edit > Clear all outputs to clear all previous outputs.\n",
        "3. This tool-set is ment to be used with data collected with the EASI-ORC image analysis scripts. Data from other sources will probably not analyze correctly or at all.\n",
        "4. The different modules are ment to be activated linearily. Don't skip any.\n",
        "5. On the top left, you'll find the folder icon (bottom of the icon column). Press it to get access to all tables and saved images. You can right-click and download any file from that menu, or download them all in a single zip file at the end.\n",
        "6. The top module is a version control module. No need to activate it, unless you get a version control error in one of the other modules.\n",
        "7. Pressing the angle bracket sign at the top left will display the module's code.\n",
        "\n",
        "\n",
        "**In each module, a run icon is displayed at the top left. Press it to run the module. Wait until it's done (a green check mark will appear) before advancing.**\n"
      ]
    },
    {
      "cell_type": "code",
      "execution_count": 1,
      "metadata": {},
      "outputs": [],
      "source": [
        "# from easiorc_functions import *\n",
        "import easiorc_functions as easiorc\n",
        "import tqdm\n",
        "import pandas as pd\n",
        "import matplotlib.pyplot as plt\n",
        "import numpy as np\n",
        "import glob\n",
        "# from ipywidgets import interactive, IntSlider, FloatSlider, widgets\n",
        "import seaborn as sns\n",
        "import scipy\n",
        "import tkinter as tk\n",
        "from tkinter import filedialog\n",
        "import sys\n",
        "from statsmodels.stats.multicomp import pairwise_tukeyhsd\n",
        "import os\n"
      ]
    },
    {
      "cell_type": "markdown",
      "metadata": {
        "id": "T2LGXtYeUHxv"
      },
      "source": [
        "# Upload Data\n",
        "\n",
        "**Start** - Press the first run icon and upload your EASI-ORC result files. Each batch of files will be treated as a single strain or treatment. Make sure to select all result files of a single type (select all in the browse window, using the Shift key), with accordance to your experimental design.\n",
        "\n",
        "**Name** - After each group of files is uploaded, you will be prompted to provide a name for it. This name will be used for it in the graphs and tables produced by this tool. Try to avoid overly long names.\n",
        "\n",
        "**Order** - If you have a preference for the order in which the different treatments are presented in the graphs, make sure you upload your files by that order. The first will be the leftmost or top in all graphs and table and the last will be at the right or bottom.\n",
        "\n",
        "**Output** - Once you're done, a joined table will be created for each group of files."
      ]
    },
    {
      "cell_type": "code",
      "execution_count": 2,
      "metadata": {},
      "outputs": [
        {
          "name": "stdout",
          "output_type": "stream",
          "text": [
            "\n",
            "Experiment consists of 3 treatment/s overall.\n",
            "\n"
          ]
        }
      ],
      "source": [
        "root = tk.Tk()\n",
        "root.lift()\n",
        "root.withdraw()\n",
        "root.attributes('-topmost', True)\n",
        "path = filedialog.askdirectory(parent = root, initialdir = '', title = \"choose directory containing EASI-ORC results\")\n",
        "if path == '':\n",
        "  sys.exit(\"No folder selected\")\n",
        "main_tables_list = glob.glob(path + \"//*.csv\")\n",
        "\n",
        "while True:\n",
        "  treatments_num = input(\"\\nPlease type the number of treatments:\\t\")\n",
        "  if treatments_num.isnumeric():\n",
        "    treatments_num =int(treatments_num)\n",
        "    print(f'\\nExperiment consists of {treatments_num} treatment/s overall.\\n')\n",
        "    break\n",
        "  else:\n",
        "    print(\"\\nPlease enter positive integers only.\\n\")\n",
        "\n",
        "coverages_df_list, rna_df_list = [], []\n",
        "treatment_idx = 0\n",
        "while True:\n",
        "  input_string=str(input(\"Please type treatment identidier string: \"))\n",
        "  tables_strain_lists=list(filter(lambda x: input_string in x, main_tables_list))\n",
        "  if len(tables_strain_lists) == 0:\n",
        "    print(\"No such treatment identifier found. Please try again.\")\n",
        "    continue\n",
        "  treatment_name=str(input(f'Please type the name of treatment no.{treatment_idx+1}:\\t'))\n",
        "  treatment_name = treatment_name.replace(\"_\", \" \")\n",
        "  temp_coverages_df = easiorc.prepare_dataframes(pd.concat([pd.read_csv(x) for x in tables_strain_lists])).reset_index(drop=True)\n",
        "  temp_coverages_df['treatment'] = treatment_name\n",
        "  temp_coverages_df['cell_id'] = temp_coverages_df.index.astype('int')\n",
        "  coverages_df_list.append(temp_coverages_df)\n",
        "  rna_df_temp = pd.concat([df for df in map(lambda idx: easiorc.rna_df_function(idx, df=temp_coverages_df), np.arange(len(temp_coverages_df))) if not df.isna().all(axis=None)])\n",
        "  rna_df_temp['treatment'] = treatment_name\n",
        "  rna_df_list.append(rna_df_temp)\n",
        "  treatment_idx += 1\n",
        "  if treatment_idx == treatments_num:\n",
        "    break\n",
        "\n",
        "coverages_df = pd.concat(coverages_df_list).drop(columns=['Cell #', 'Spots Coordinates Intensity and Colocalization (Far Near or Not Colocolized)']).reset_index(drop=True)\n",
        "rna_df = pd.concat(rna_df_list).drop(columns=['status'], inplace=False).reset_index(drop=True).fillna(0, inplace=False)"
      ]
    },
    {
      "cell_type": "markdown",
      "metadata": {
        "id": "JO9qidhss2Tp"
      },
      "source": [
        "# Data Filtering\n",
        "Before the data can be analayzed, it must be filtered.\n",
        "\n",
        "**Important**\n",
        "1. The filters in this section must be activated in order.\n",
        "2. If you go back and update the filter parameters in a previous filter, you must run the next ones again for the new values to take effect.\n",
        "\n",
        "**Instructions**\n",
        "1. Click the run button of the filter you want to activate.\n",
        "2. Change filter parameters (min and max values) by double clicking the value and writing your own, or with the slider, according to your experimental design and each filter's specific notes. The changes will be updated in the plot as you make them.\n",
        "3. Notice you can change the names of many parameter in each figure. If you change any names, make sure to re-run the cell for the changes to take effect.\n",
        "You can also change many design parameters, including font style and sizes in different sections of the plot.\n",
        "4. To save a figure, click the save button below each figure. It will be saved with the filter parameters in the file's name in the 'Figures' folder.\n",
        "5. Once you're happy with the parameters you've chosen and saved an image of the plot, you can continue to the next filter."
      ]
    },
    {
      "cell_type": "markdown",
      "metadata": {
        "id": "U3GY9vACYbRb"
      },
      "source": [
        "# Filter 1 - smFISH signal intesities\n",
        "To make sure the spots identifed using EASI-ORC are all true signals, you must filter out any outliers identified, using their intesitiy. Both high and low intesitiy spots identified my be noise.\n",
        "\n",
        "Aim to keep most signals, while removing outliers.\n",
        "\n",
        "There are no predetermined values to reccomend, since they change by the protocol used, flourophore chosen and imaging equipment."
      ]
    },
    {
      "cell_type": "code",
      "execution_count": 3,
      "metadata": {
        "id": "upBIo1Hp5ISN"
      },
      "outputs": [
        {
          "data": {
            "application/vnd.jupyter.widget-view+json": {
              "model_id": "5f742f2785e04ee881f0b53561283f24",
              "version_major": 2,
              "version_minor": 0
            },
            "text/plain": [
              "VBox(children=(interactive(children=(Dropdown(description='main_title', index=14, options=(8, 9, 10, 11, 12, 1…"
            ]
          },
          "execution_count": 3,
          "metadata": {},
          "output_type": "execute_result"
        }
      ],
      "source": [
        "# @title  { display-mode: \"form\" }\n",
        "\n",
        "fig_name =  'smFISH Signal Intensity Organelle Comparison ' #@param {type:\"string\"}\n",
        "main_title_label = 'mRNA signal Intensity' #@param {type:\"string\"}\n",
        "x_axis_label = 'mRNA signal intensities' #@param {type:\"string\"}\n",
        "y_axis_label = 'Signals count' #@param {type:\"string\"}\n",
        "\n",
        "\n",
        "def plot_function(main_title=22, axis_labels=16, axis_ticks = 16, legend=12, file_type='png', DPI=1000, plot_style='seaborn-v0_8-colorblind', _min_=0, _max_=max(rna_df['intensity'])+1, bins=100):   \n",
        "    \n",
        "    plt.figure(figsize=(10, 3))\n",
        "    plt.style.use(plot_style)\n",
        "    for sample in list(rna_df['treatment'].unique()):\n",
        "        sns.histplot(data=rna_df[rna_df['treatment']==sample], \n",
        "                     x='intensity', \n",
        "                     bins=bins,\n",
        "                     edgecolor=None, \n",
        "                     alpha=.3, \n",
        "                     label=f'{sample}, signals: {len(rna_df[rna_df[\"intensity\"].between(_min_, _max_) & (rna_df[\"treatment\"]==sample)])}',\n",
        "                     )   \n",
        "    \n",
        "    easiorc.plot_assist(axis_ticks, axis_labels, legend, main_title, x_axis_label, y_axis_label, main_title_label)\n",
        "    plt.title(f'Total signals presented : {len(rna_df[rna_df['intensity'].between(_min_, _max_)])}\\nTotal signals omitted:  {len(rna_df)-len(rna_df[rna_df['intensity'].between(_min_, _max_)])}', y= -0.49)\n",
        "    plt.xlim([_min_-.5, _max_+.5])\n",
        "    easiorc.global_assist(min=_min_, max=_max_, DPI=DPI, fig_name=fig_name, file_type=file_type, path=path)\n",
        "\n",
        "    global intensity_threshold\n",
        "    intensity_threshold = [_min_,_max_]\n",
        "    \n",
        "    plt.show() \n",
        "\n",
        "easiorc.show_interactive(plot_function, min=(0,max(rna_df['intensity'])-.1), max=(0,max(rna_df['intensity'])+1), slider_value=(0, max(rna_df['intensity'])+1), step=.01, bins=easiorc.bins)\n"
      ]
    },
    {
      "cell_type": "markdown",
      "metadata": {
        "id": "0bokeCbrf1RW"
      },
      "source": [
        "# Filter 2 - Organelle covrage per cell, per z-plane\n",
        "Depending on the experimental design, the observed organelle will likely appear different between cells. Some may have very little or no organelle signal, while other may be completly covered by it. For each cell, you'd want to disregard the planes where these outliers appear.\n",
        "\n",
        "Analyzing a plane where the entire cell is covered with an organelle will yield a false positive identification of colocalization between the mRNA signals and the organelle. Similiarly, using a plane where no organelle signal is observed will create the opposite bias, resolving all mRNA signals and not colocolized.\n",
        "\n",
        "The precise values you should choose are determined by your specific exeprimental makeup (organelle observed, imaging tools used, etc)."
      ]
    },
    {
      "cell_type": "code",
      "execution_count": 4,
      "metadata": {
        "id": "5FoH-0o5KV4R"
      },
      "outputs": [
        {
          "data": {
            "application/vnd.jupyter.widget-view+json": {
              "model_id": "d71a023b87da4094b04f39834d476b54",
              "version_major": 2,
              "version_minor": 0
            },
            "text/plain": [
              "VBox(children=(interactive(children=(Dropdown(description='main_title', index=14, options=(8, 9, 10, 11, 12, 1…"
            ]
          },
          "execution_count": 4,
          "metadata": {},
          "output_type": "execute_result"
        }
      ],
      "source": [
        "rna_df_filtered_intensities = rna_df[rna_df['intensity'].between(*intensity_threshold)].copy()\n",
        "\n",
        "\n",
        "fig_name =  'Organelle coverage by cross-sections fig' #@param {type:\"string\"}\n",
        "main_title_label = 'Organelle coverage of cell per cross-section' #@param {type:\"string\"}\n",
        "x_axis_label = 'Organelle coverage (%)' #@param {type:\"string\"}\n",
        "y_axis_label = 'Cross-sections count' #@param {type:\"string\"}\n",
        "\n",
        "\n",
        "def plot_function(main_title=22, axis_labels=16, axis_ticks=16, legend=12, file_type='png', DPI=1000, plot_style='seaborn-v0_8-colorblind', _min_=0, _max_=100, bins=100):\n",
        "    plt.figure(figsize=(10, 3))\n",
        "    plt.style.use(plot_style)\n",
        "    for sample in rna_df['treatment'].unique():\n",
        "        sample_array= np.array(coverages_df[coverages_df['treatment']==sample].iloc[:,:-2]).flatten()\n",
        "        sample_array = sample_array[(sample_array >= _min_) & (sample_array <= _max_)]\n",
        "        sns.histplot(x=sample_array, \n",
        "                     bins=bins,\n",
        "                     edgecolor=None, \n",
        "                     alpha=.3, \n",
        "                     label=f'{sample}, cross-sections: {len(sample_array[(sample_array >= _min_) & (sample_array <= _max_)])}',)\n",
        "    \n",
        "    easiorc.plot_assist(axis_ticks, axis_labels, legend, main_title, x_axis_label, y_axis_label, main_title_label)\n",
        "    \n",
        "    coverage_array = np.array(coverages_df.iloc[:,:-2]).flatten()\n",
        "    plt.xlim([_min_-.5, _max_+.5])\n",
        "\n",
        "    plt.title(f'Total sections presented : {len(coverage_array[(coverage_array >= _min_) & (coverage_array <= _max_)])}\\nTotal sections omitted:  {len(coverage_array)-len(coverage_array[(coverage_array >= _min_) & (coverage_array <= _max_)])}', y= -0.49)\n",
        "    easiorc.global_assist(min=_min_, max=_max_, DPI=DPI, fig_name=fig_name, file_type=file_type, path=path)\n",
        "    \n",
        "    global coverage_threshold\n",
        "    coverage_threshold = [_min_,_max_]  \n",
        "    \n",
        "    plt.show() \n",
        "\n",
        "easiorc.show_interactive(plot_function, min=(0,100), max=(0,100), slider_value=(.01, 100), step=.01, bins=easiorc.bins)"
      ]
    },
    {
      "cell_type": "markdown",
      "metadata": {
        "id": "oOFo6Gn9gBFP"
      },
      "source": [
        "# Filter 3 - smFISH Signals Per Cell\n",
        "The final filter allows you to only count cells with a specific number of smFISH signals in them.\n",
        "\n",
        "The values chosen for this filter will depend upon your target mRNA and experimental procedures. For example, if you target mRNA is very abundent under your experimental growth conditions, you'd want to include cells with severl dozens of signals.\n",
        "\n",
        "As usual, you may want to remove any outliers. If a cell has hunderds of singals, it may be the result of noise, and you'll want to remove it."
      ]
    },
    {
      "cell_type": "code",
      "execution_count": 5,
      "metadata": {
        "cellView": "form",
        "id": "ijz5U0zozzwD"
      },
      "outputs": [
        {
          "data": {
            "application/vnd.jupyter.widget-view+json": {
              "model_id": "3b068cd89be34275b2fc00b2a9700e11",
              "version_major": 2,
              "version_minor": 0
            },
            "text/plain": [
              "VBox(children=(interactive(children=(Dropdown(description='main_title', index=14, options=(8, 9, 10, 11, 12, 1…"
            ]
          },
          "execution_count": 5,
          "metadata": {},
          "output_type": "execute_result"
        }
      ],
      "source": [
        "filtered_rna_df = rna_df[(rna_df['intensity'].between(*intensity_threshold)) & (rna_df['organelle_coverage'].between(*coverage_threshold))].copy()\n",
        "cells_df = easiorc.rna_to_cell_df(filtered_rna_df)\n",
        "\n",
        "fig_name_signals =  'mRNA signals per cell fig' #@param {type:\"string\"}\n",
        "main_title_label = 'mRNA signals per cell' #@param {type:\"string\"}\n",
        "x_axis_label = 'mRNA signals per cells' #@param {type:\"string\"}\n",
        "y_axis_label = 'Cells count' #@param {type:\"string\"}\n",
        "\n",
        "def plot_function(main_title=22, axis_labels=16, axis_ticks=16, legend=12, file_type='png', DPI=1000, plot_style='seaborn-v0_8-colorblind', _min_=0, _max_=max(cells_df['rna_count'])):\n",
        "\n",
        "    plt.figure(figsize=(10, 3))\n",
        "    plt.style.use(plot_style)\n",
        "    for sample in list(cells_df['treatment'].unique()):\n",
        "        sample_array = np.array(cells_df[(cells_df[\"rna_count\"].between(_min_, _max_)) & (cells_df[\"treatment\"] == sample)]['rna_count']).flatten()\n",
        "        sns.histplot(x=sample_array,\n",
        "                     edgecolor=None, \n",
        "                     alpha=.3, \n",
        "                     label=f'{sample}, cells: {len(cells_df[(cells_df[\"rna_count\"].between(_min_, _max_)) & (cells_df[\"treatment\"] == sample)])}')   \n",
        "        \n",
        "    easiorc.plot_assist(axis_ticks, axis_labels, legend, main_title, x_axis_label, y_axis_label, main_title_label)\n",
        "    plt.xlim([_min_-.5, _max_+.5])\n",
        "    \n",
        "    plt.title(f'Total cells presented : {len(cells_df[cells_df['rna_count'].between(_min_, _max_)])}\\nTotal cells omitted:  {len(cells_df)-len(cells_df[cells_df['rna_count'].between(_min_, _max_)])}', y= -0.49)\n",
        "    easiorc.global_assist(min=_min_, max=_max_, DPI=DPI, fig_name=fig_name_signals, file_type=file_type, path=path)\n",
        "\n",
        "    global rna_num_threshold\n",
        "    rna_num_threshold = [_min_,_max_]\n",
        "    \n",
        "    plt.show() \n",
        "\n",
        "easiorc.show_interactive(plot_function, type='int', min=(0, max(cells_df['rna_count'])), max=(0, max(cells_df['rna_count'])), slider_value=(1,max(cells_df['rna_count'])), step=1)"
      ]
    },
    {
      "cell_type": "markdown",
      "metadata": {
        "id": "psnNLRr-Y31F"
      },
      "source": [
        "# Filtered Data Production\n",
        "\n",
        "\n",
        "\n",
        "*  After you're happy with your filtering parameters, run this cell to produce filtered data.\n",
        "*  If you change filters, you must run this cell again, to update the data accordingly."
      ]
    },
    {
      "cell_type": "markdown",
      "metadata": {
        "id": "lpHPotSbn1mN"
      },
      "source": [
        "# Figures\n",
        "In the next few cells, you will be able to use the filtered data to present several figures.\n",
        "\n",
        "Each can be saved using the 'Save Figure' button below the figure.\n",
        "\n",
        "Notice you can change the names of many parameter in each figure. If you change any names, make sure to re-run the cell for the changes to take effect.\n",
        "You can also change many design parameters, including font style and sizes in different sections of the plot.\n",
        "\n",
        "Lastly, before saving, you can change the file's type, quality and even choose a different plot style.\n",
        "\n",
        "Actual value will be availabe in the stats table created in the end of the tool-set (including error values)."
      ]
    },
    {
      "cell_type": "markdown",
      "metadata": {
        "id": "PJ7QeIuzj8Im"
      },
      "source": [
        "# mRNA-Organelle Colocalization (Stacked Bar Plot)\n",
        "After filtering out any unwanted signals, cells and z-planes, your data can be presented graphically. The first figure is a stacked bar plot that shows the colocalization precentages of each starin or treatment (group of files uploaded).\n",
        "\n",
        "Standard error is displayed for each of the stacked bars in a corresponding, darker color."
      ]
    },
    {
      "cell_type": "code",
      "execution_count": 20,
      "metadata": {
        "id": "tRP4NHQLR-i7"
      },
      "outputs": [
        {
          "data": {
            "application/vnd.jupyter.widget-view+json": {
              "model_id": "f549813c8b84433990f1b7bdc509e98b",
              "version_major": 2,
              "version_minor": 0
            },
            "text/plain": [
              "VBox(children=(interactive(children=(Dropdown(description='main_title', index=14, options=(8, 9, 10, 11, 12, 1…"
            ]
          },
          "execution_count": 20,
          "metadata": {},
          "output_type": "execute_result"
        }
      ],
      "source": [
        "# @title  { display-mode: \"form\" }\n",
        "\n",
        "# Plot: Colocalization proportions\n",
        "\n",
        "filtered_cells_df = cells_df[cells_df['rna_count'].between(*rna_num_threshold)].copy()\n",
        "grouped_df = filtered_cells_df[['treatment', 'not_colocalized', 'organelle_near_colocalized', 'organelle_far_colocalized']]\n",
        "grouped_df = grouped_df.groupby('treatment').mean()\n",
        "grouped_df = grouped_df.reset_index()\n",
        "\n",
        "grouped_df['treatment'] = pd.Categorical(grouped_df['treatment'], categories=list(filtered_cells_df['treatment'].unique()), ordered=True)\n",
        "grouped_df = grouped_df.sort_values('treatment')\n",
        "\n",
        "fig_name = 'mRNA to organells colocalization proportion ' #@param {type:\"string\"}\n",
        "main_title_label = 'mRNA-Organelle Colocalization (Stacked Bar Plot)' #@param {type:\"string\"}\n",
        "x_axis_label = ''  #@param {type:\"string\"}\n",
        "y_axis_label = 'Localization proportion' #@param {type:\"string\"}\n",
        "legend_non_localized = 'Not ER Localized' #@param {type:\"string\"}\n",
        "legend_close_localized = 'nER' #@param {type:\"string\"}\n",
        "legend_far_localized = 'cER' #@param {type:\"string\"}\n",
        "\n",
        "def plot_function(main_title=22, axis_labels=18, axis_ticks=16, legend=16, file_type='png', DPI=1000, plot_style='seaborn-v0_8-colorblind'):\n",
        "\n",
        "    plt.style.use(plot_style)\n",
        "\n",
        "    grouped_df.plot(x='treatment', kind='bar', stacked=True, figsize=(len(list(cells_df['treatment'].unique()))*1,4), legend=True, width=.95)\n",
        "    error_bar_color='k'\n",
        "    capsize=5\n",
        "    \n",
        "    for treatment in filtered_cells_df['treatment'].unique():\n",
        "            plt.errorbar(x=treatment, y=grouped_df[grouped_df['treatment']==treatment]['not_colocalized'], \n",
        "                        yerr=scipy.stats.sem(filtered_cells_df[filtered_cells_df['treatment']==treatment]['not_colocalized']), color=error_bar_color, capsize=capsize)\n",
        "            plt.errorbar(x=treatment, y=grouped_df[grouped_df['treatment']==treatment]['not_colocalized']+grouped_df[grouped_df['treatment']==treatment]['organelle_near_colocalized'], \n",
        "                        yerr=scipy.stats.sem(filtered_cells_df[filtered_cells_df['treatment']==treatment]['organelle_near_colocalized']), color=error_bar_color, capsize=capsize)\n",
        "            if sum(filtered_cells_df['organelle_far_colocalized']) > 0:\n",
        "                plt.errorbar(x=treatment, y=grouped_df[grouped_df['treatment']==treatment]['not_colocalized']+grouped_df[grouped_df['treatment']==treatment]['organelle_near_colocalized']+grouped_df[grouped_df['treatment']==treatment]['organelle_far_colocalized'], \n",
        "                            yerr=scipy.stats.sem(filtered_cells_df[filtered_cells_df['treatment']==treatment]['organelle_far_colocalized']), color=error_bar_color, capsize=capsize)\n",
        "\n",
        "    easiorc.plot_assist(axis_ticks, axis_labels, legend, main_title, x_axis_label, y_axis_label, main_title_label)    \n",
        "    plt.xticks(fontsize=axis_ticks, rotation=30, ha=\"right\")\n",
        "\n",
        "    if sum(filtered_cells_df['organelle_far_colocalized']) > 0:\n",
        "        plt.legend([legend_non_localized, legend_close_localized, legend_far_localized], fontsize=legend, loc='center left', bbox_to_anchor=(1, 0.5))\n",
        "    else:\n",
        "        plt.legend([legend_non_localized, legend_close_localized], fontsize=legend, loc='center left', bbox_to_anchor=(1, 0.5))\n",
        "\n",
        "    easiorc.global_assist( DPI=DPI, fig_name=fig_name, file_type=file_type, filter=False, intensity_threshold=intensity_threshold, coverage_threshold=coverage_threshold, rna_num_threshold=rna_num_threshold, path=path)\n",
        "    \n",
        "    plt.show()\n",
        "\n",
        "easiorc.show_interactive(plot_function)"
      ]
    },
    {
      "cell_type": "markdown",
      "metadata": {
        "id": "D9_wf4SddCOT"
      },
      "source": [
        "# mRNA-organelle Colocalization (violing plots)\n",
        "\n",
        "This plot presents the same data points (colocalization proportions), in the form of violing plots. Each colocaliation designation is presented in a seperate sub-plot.\n",
        "\n",
        "Each spot indicates a single cell in the filtered data.\n",
        "The dashed white lines are the 25, 50, and 75 quartalised and the solid black line is the mean.\n",
        "\n",
        "* Make sure you scroll down for the 'Save Figure' button."
      ]
    },
    {
      "cell_type": "code",
      "execution_count": 8,
      "metadata": {
        "id": "9ug-mSd45Iq4"
      },
      "outputs": [
        {
          "data": {
            "application/vnd.jupyter.widget-view+json": {
              "model_id": "d5e6ce4f5411438ea8172c74684570fb",
              "version_major": 2,
              "version_minor": 0
            },
            "text/plain": [
              "VBox(children=(interactive(children=(Dropdown(description='main_title', index=14, options=(8, 9, 10, 11, 12, 1…"
            ]
          },
          "execution_count": 8,
          "metadata": {},
          "output_type": "execute_result"
        }
      ],
      "source": [
        "# @title  { display-mode: \"form\" }\n",
        "\n",
        "fig_name = 'mRNA to organells colocalization proportion violin fig' #@param {type:\"string\"}\n",
        "main_title_label = '' #@param {type:\"string\"}\n",
        "coloc_title_label = 'Organelle Localization' #@param {type:\"string\"}\n",
        "non_coloc_title_label = 'Non-Organelle Localization' #@param {type:\"string\"}\n",
        "close_coloc_title_label = 'Proximal Organelle Localization' #@param {type:\"string\"}\n",
        "far_coloc_title_label = 'Distal Organelle Localization' #@param {type:\"string\"}\n",
        "x_axis_label = ''  #@param {type:\"string\"}\n",
        "y_axis_label = 'Proportion' #@param {type:\"string\"}\n",
        "\n",
        "violin_columns = [col for col in filtered_cells_df.columns if 'local' in col]\n",
        "violin_titles = [coloc_title_label, non_coloc_title_label, close_coloc_title_label, far_coloc_title_label]\n",
        "\n",
        "if sum(filtered_cells_df['organelle_far_colocalized']) == 0:\n",
        "    print('yeeees')\n",
        "    violin_columns=violin_columns[:2]\n",
        "    violin_titles=violin_titles[:2]\n",
        "\n",
        "def plot_function(main_title=22, axis_labels=18, axis_ticks=16, legend=16, file_type='png', DPI=1000, plot_style='seaborn-v0_8-colorblind'):\n",
        "\n",
        "    plt.style.use(plot_style)\n",
        "    plt.figure(figsize=((len(list(filtered_cells_df['treatment'].unique()))*1.75)+2, len(violin_columns)*4))\n",
        "    for idx, column in enumerate(violin_columns):\n",
        "        plt.subplot(len(violin_columns), 1, idx+1).set_title(violin_titles[idx], fontsize=main_title)\n",
        "\n",
        "        means = filtered_cells_df.groupby('treatment')[column].mean().values\n",
        "        medians = filtered_cells_df.groupby('treatment')[column].median().values\n",
        "        categories = sorted(filtered_cells_df['treatment'].unique())\n",
        "\n",
        "        sns.violinplot(data=filtered_cells_df, x='treatment', y=column, hue='treatment', inner=None, edgecolor=None)\n",
        "        sns.stripplot(data=filtered_cells_df, x='treatment', y=column, hue='treatment', jitter=0.35, alpha=.25, edgecolor='k', linewidth=1, size=3)\n",
        "        plt.scatter(categories, means, color='k', edgecolor='w', linewidth=.9, label='Mean', zorder=3, marker='o', s=90)\n",
        "        plt.scatter(categories, medians, color='k', edgecolor='w', linewidth=.9, label='Median', zorder=3, marker='X', s=90)\n",
        "        plt.legend(loc='center left', bbox_to_anchor=(1, 0.5))\n",
        "\n",
        "        easiorc.plot_assist(axis_ticks, axis_labels, legend, main_title, x_axis_label, y_axis_label, main_title_label) \n",
        "        plt.xticks(fontsize=axis_ticks, rotation=30, ha=\"right\")    \n",
        "    \n",
        "    easiorc.global_assist( DPI=DPI, fig_name=fig_name, file_type=file_type, filter=False, intensity_threshold=intensity_threshold, coverage_threshold=coverage_threshold, rna_num_threshold=rna_num_threshold, path=path)\n",
        "\n",
        "    plt.tight_layout()\n",
        "    plt.show()\n",
        "\n",
        "easiorc.show_interactive(plot_function)"
      ]
    },
    {
      "cell_type": "markdown",
      "metadata": {
        "id": "Zz8NM8qlkRXQ"
      },
      "source": [
        "# mRNA Signals per Cell\n",
        "This violing plot presents the number of smFISH signals identifed per cell. Each spot represents a single cell."
      ]
    },
    {
      "cell_type": "code",
      "execution_count": 9,
      "metadata": {
        "id": "GjMhvQ-tN6iP"
      },
      "outputs": [
        {
          "data": {
            "application/vnd.jupyter.widget-view+json": {
              "model_id": "1e7cbe88b6914476aa176b02c86c8ee4",
              "version_major": 2,
              "version_minor": 0
            },
            "text/plain": [
              "VBox(children=(interactive(children=(Dropdown(description='main_title', index=14, options=(8, 9, 10, 11, 12, 1…"
            ]
          },
          "execution_count": 9,
          "metadata": {},
          "output_type": "execute_result"
        }
      ],
      "source": [
        "# @title  { display-mode: \"form\" }\n",
        "\n",
        "fig_name = 'mRNA signals per cell violin fig' #@param {type:\"string\"}\n",
        "main_title_label = 'mRNA Signals per Cell' #@param {type:\"string\"}\n",
        "x_axis_label = 'Strains' #@param {type:\"string\"}\n",
        "y_axis_label = 'mRNA signals per cell' #@param {type:\"string\"}\n",
        "\n",
        "categories = sorted(filtered_cells_df['treatment'].unique())\n",
        "means = filtered_cells_df.groupby('treatment')['rna_count'].mean().values\n",
        "medians = filtered_cells_df.groupby('treatment')['rna_count'].median().values\n",
        "\n",
        "def plot_function(main_title=22, axis_labels=18, axis_ticks=16, legend=16, file_type='png', DPI=1000, plot_style='seaborn-v0_8-colorblind'):\n",
        "    plt.style.use(plot_style)\n",
        "    plt.figure(figsize=(len(list(filtered_cells_df['treatment'].unique())), 5))\n",
        "    sns.violinplot(data=filtered_cells_df, x='treatment', y='rna_count', hue='treatment', inner=None, edgecolor=None)\n",
        "    sns.stripplot(data=filtered_cells_df, x='treatment', y='rna_count', hue='treatment', jitter=0.35, alpha=.25, edgecolor='k', linewidth=1, size=3)\n",
        "    plt.scatter(categories, means, color='k', edgecolor='w', linewidth=.9, label='Mean', zorder=3, marker='o', s=90)\n",
        "    plt.scatter(categories, medians, color='k', edgecolor='w', linewidth=.9, label='Median', zorder=3, marker='X', s=90)\n",
        "    easiorc.plot_assist(axis_ticks, axis_labels, legend, main_title, x_axis_label, y_axis_label, main_title_label)\n",
        "    plt.xticks(fontsize=axis_ticks, rotation=30, ha=\"right\")\n",
        "    plt.legend(fontsize=legend, loc='center left', bbox_to_anchor=(1, 0.5))\n",
        "\n",
        "    easiorc.global_assist( DPI=DPI, fig_name=fig_name, file_type=file_type, filter=False, intensity_threshold=intensity_threshold, coverage_threshold=coverage_threshold, rna_num_threshold=rna_num_threshold, path=path)\n",
        "\n",
        "easiorc.show_interactive(plot_function)"
      ]
    },
    {
      "cell_type": "markdown",
      "metadata": {
        "id": "Umc9AYwLeSFp"
      },
      "source": [
        "# Average Organelle Coverage per Cell\n",
        "This violing plot presents the avarage coverage (in %) of an organelle per cell. Only the z-planes used in the analysis (those remianing after filtering) are used for the calculation."
      ]
    },
    {
      "cell_type": "code",
      "execution_count": 10,
      "metadata": {
        "id": "xDGI-eJveOf4"
      },
      "outputs": [
        {
          "data": {
            "application/vnd.jupyter.widget-view+json": {
              "model_id": "7c63bea44e914f0589bdd14cd0f2a82c",
              "version_major": 2,
              "version_minor": 0
            },
            "text/plain": [
              "VBox(children=(interactive(children=(Dropdown(description='main_title', index=14, options=(8, 9, 10, 11, 12, 1…"
            ]
          },
          "execution_count": 10,
          "metadata": {},
          "output_type": "execute_result"
        }
      ],
      "source": [
        "# @title  { display-mode: \"form\" }\n",
        "\n",
        "fig_name = 'Average Organelle Coverage per Cell violin' #@param {type:\"string\"}\n",
        "main_title_label = 'Average Organelle Coverage per Cell' #@param {type:\"string\"}\n",
        "x_axis_label = 'Strains' #@param {type:\"string\"}\n",
        "y_axis_label = 'Average Organelle Coverage (%)' #@param {type:\"string\"}\n",
        "\n",
        "filtered_cells_df['cell_id'] = filtered_cells_df['cell_id'].astype(int)\n",
        "final_cells_df = filtered_cells_df.merge(coverages_df, on=['treatment', 'cell_id'])\n",
        "final_cells_df_columns = [col for col in final_cells_df.columns if 'Organelle Signal Size Cross Section' in col]\n",
        "final_cells_df = final_cells_df.apply(lambda x: easiorc.filtered_mean_coverages(row=x, coverage_threshold=coverage_threshold, cols=final_cells_df_columns), axis=1)\n",
        "\n",
        "\n",
        "def plot_function(main_title=22, axis_labels=18, axis_ticks=16, legend=16, file_type='png', DPI=1000, plot_style='seaborn-v0_8-colorblind'):\n",
        "    plt.style.use(plot_style)\n",
        "    plt.figure(figsize=(len(list(filtered_cells_df['treatment'].unique())), 5))\n",
        "\n",
        "    categories = final_cells_df['treatment'].unique()\n",
        "    means = [final_cells_df[final_cells_df['treatment'] == category]['filtered_mean_organelle_coverage'].mean() for category in categories]\n",
        "    medians = [final_cells_df[final_cells_df['treatment'] == category]['filtered_mean_organelle_coverage'].median() for category in categories]\n",
        "\n",
        "    sns.violinplot(data=final_cells_df, x='treatment', y='filtered_mean_organelle_coverage', hue='treatment', inner=None, edgecolor=None)\n",
        "    sns.stripplot(data=final_cells_df, x='treatment', y='filtered_mean_organelle_coverage', hue='treatment', jitter=0.35, alpha=.25, edgecolor='k', linewidth=1, size=3)\n",
        "    plt.scatter(categories, means, color='k', edgecolor='w', linewidth=.9, label='Mean', zorder=3, marker='o', s=90)\n",
        "    plt.scatter(categories, medians, color='k', edgecolor='w', linewidth=.9, label='Median', zorder=3, marker='X', s=90)\n",
        "\n",
        "    easiorc.plot_assist(axis_ticks, axis_labels, legend, main_title, x_axis_label, y_axis_label, main_title_label)\n",
        "    plt.xticks(fontsize=axis_ticks, rotation=30, ha=\"right\")\n",
        "    plt.legend(fontsize=legend, loc='center left', bbox_to_anchor=(1, 0.5))\n",
        "\n",
        "    easiorc.global_assist( DPI=DPI, fig_name=fig_name, file_type=file_type, filter=False, intensity_threshold=intensity_threshold, coverage_threshold=coverage_threshold, rna_num_threshold=rna_num_threshold, path=path)\n",
        "\n",
        "    plt.show()\n",
        "\n",
        "easiorc.show_interactive(plot_function)\n"
      ]
    },
    {
      "cell_type": "markdown",
      "metadata": {
        "id": "kCN2g2yIlRXd"
      },
      "source": [
        "# Correlations Between Major Data Points\n",
        "The next two plots provide an examination of two useful correlations:\n",
        "\n",
        "The first is between the relative organelle coverage (avarage % of cell surface within filtered parameters) and the mRNA-organelle colocalization proportion in that cell.\n",
        "\n",
        "The second is between the number of smFISH signals in a cell and the mRNA-organelle colocalization proportion in that cells.\n",
        "\n",
        "Each point in these graphs corresponts to a single cell.\n",
        "\n",
        "These may help you identify the existance or lack-there-off of technical biases."
      ]
    },
    {
      "cell_type": "markdown",
      "metadata": {
        "id": "rZIxxWzYkrNF"
      },
      "source": [
        "# Organelle Coverage vs mRNA-organelle Colocalization"
      ]
    },
    {
      "cell_type": "code",
      "execution_count": 11,
      "metadata": {
        "id": "FtFZqRsDbKXD"
      },
      "outputs": [
        {
          "data": {
            "application/vnd.jupyter.widget-view+json": {
              "model_id": "834423cb1b13497b8d40a07c86d58d58",
              "version_major": 2,
              "version_minor": 0
            },
            "text/plain": [
              "VBox(children=(interactive(children=(Dropdown(description='main_title', index=14, options=(8, 9, 10, 11, 12, 1…"
            ]
          },
          "execution_count": 11,
          "metadata": {},
          "output_type": "execute_result"
        }
      ],
      "source": [
        "# @title  { display-mode: \"form\" }\n",
        "\n",
        "fig_name = 'mean organelle coverage vs. organelle localization' #@param {type:\"string\"}\n",
        "main_title_label = 'Mean Organelle Coverage vs. Organelle Localization' #@param {type:\"string\"}\n",
        "x_axis_label = 'Mean organelle coverage (%)' #@param {type:\"string\"}\n",
        "y_axis_label = 'mRNA-organelle localization (%)' #@param {type:\"string\"}\n",
        "\n",
        "def plot_function(main_title=22, axis_labels=16, axis_ticks=16, legend=12, file_type='png', DPI=1000, plot_style='seaborn-v0_8-colorblind'):\n",
        "    plt.style.use(plot_style)\n",
        "    plt.figure()\n",
        "\n",
        "    for treatment in final_cells_df['treatment'].unique():\n",
        "        curr_df = final_cells_df[final_cells_df['treatment']==treatment]\n",
        "        curr_df = final_cells_df[final_cells_df['treatment']==treatment]\n",
        "        x= curr_df['filtered_mean_organelle_coverage'] + 0.8 * np.random.rand(len(curr_df['filtered_mean_organelle_coverage'])) \n",
        "        y= curr_df['colocalized']*100 + 0.8 * np.random.rand(len(curr_df['colocalized']))\n",
        "\n",
        "        sns.scatterplot(data=curr_df, x=x, y=y, \n",
        "                        linewidth= 0.2, s=20, alpha=.5, label=f'{treatment}, R = {round(scipy.stats.pearsonr(curr_df['filtered_mean_organelle_coverage'],curr_df['colocalized'])[0], 3)}')\n",
        "        easiorc.plot_assist(axis_ticks, axis_labels, legend, main_title, x_axis_label, y_axis_label, main_title_label)\n",
        "\n",
        "    easiorc.global_assist( DPI=DPI, fig_name=fig_name, file_type=file_type, filter=False, intensity_threshold=intensity_threshold, coverage_threshold=coverage_threshold, rna_num_threshold=rna_num_threshold, path=path)\n",
        "    \n",
        "    plt.show()\n",
        "\n",
        "easiorc.show_interactive(plot_function)"
      ]
    },
    {
      "cell_type": "markdown",
      "metadata": {
        "id": "4YY2NrqRkrrM"
      },
      "source": [
        "# mRNA Signals per Cell vs mRNA-organelle Colocalization"
      ]
    },
    {
      "cell_type": "code",
      "execution_count": 12,
      "metadata": {
        "id": "W_Io3LHE1IRT"
      },
      "outputs": [
        {
          "data": {
            "application/vnd.jupyter.widget-view+json": {
              "model_id": "9080f27109b5449d9accf3d9738883e4",
              "version_major": 2,
              "version_minor": 0
            },
            "text/plain": [
              "VBox(children=(interactive(children=(Dropdown(description='main_title', index=14, options=(8, 9, 10, 11, 12, 1…"
            ]
          },
          "execution_count": 12,
          "metadata": {},
          "output_type": "execute_result"
        }
      ],
      "source": [
        "# @title  { display-mode: \"form\" }\n",
        "\n",
        "fig_name = 'mRNA signals vs. organelle localization' #@param {type:\"string\"}\n",
        "main_title_label = 'mRNA signals per cell vs. organelle localization' #@param {type:\"string\"}\n",
        "x_axis_label = 'mRNA signals per cell' #@param {type:\"string\"}\n",
        "y_axis_label = 'mRNA-organelle localization (%)'#@param {type:\"string\"}\n",
        "\n",
        "def plot_function(main_title=22, axis_labels=16, axis_ticks=16, legend=12, file_type='png', DPI=1000, plot_style='seaborn-v0_8-colorblind'):\n",
        "    plt.style.use(plot_style)\n",
        "    plt.figure()\n",
        "    for treatment in final_cells_df['treatment'].unique():\n",
        "        curr_df = final_cells_df[final_cells_df['treatment']==treatment]\n",
        "        x= curr_df['rna_count'] + .8 * np.random.rand(len(curr_df['rna_count']))\n",
        "        y= curr_df['colocalized']*100 + 0.8 * np.random.rand(len(curr_df['colocalized']))\n",
        "        sns.scatterplot(data=curr_df, x=x, y=y, \n",
        "                        linewidth= 0.2, s=20, alpha=.5, \n",
        "                        label=f'{treatment}, R = {round(scipy.stats.pearsonr(curr_df['rna_count'],curr_df['colocalized'])[0], 3)}'\n",
        "                        )\n",
        "    easiorc.plot_assist(axis_ticks, axis_labels, legend, main_title, x_axis_label, y_axis_label, main_title_label)\n",
        "\n",
        "    easiorc.global_assist( DPI=DPI, fig_name=fig_name, file_type=file_type, filter=False, intensity_threshold=intensity_threshold, coverage_threshold=coverage_threshold, rna_num_threshold=rna_num_threshold, path=path)\n",
        "\n",
        "\n",
        "\n",
        "# interactive_plot_mRNA_signals_vs_localization = interactive(plot_mRNA_signals_vs_localization, file_type=easiorc.file_type, axis_ticks=easiorc.axis_ticks, DPI=easiorc.DPI, main_title=easiorc.main_title, axis_labels=easiorc.axis_labels, legend=easiorc.legend, plot_style=easiorc.graph_styles)\n",
        "# output = interactive_plot_mRNA_signals_vs_localization.children[-1]\n",
        "# widgets.VBox([interactive_plot_mRNA_signals_vs_localization, easiorc.save_btn])\n",
        "\n",
        "easiorc.show_interactive(plot_function)"
      ]
    },
    {
      "cell_type": "markdown",
      "metadata": {
        "id": "0x0TodRKmHxl"
      },
      "source": [
        "# Statistacal Summery\n",
        "This cell creates a summery table which includes all values used in the figures created above. This includes the accurate proportion and error values calulcated for them.\n",
        "\n",
        "In addition, it presents t-tests between each of the different strains/treatments in you experiment, as-well-as the p-values of the correlation plots."
      ]
    },
    {
      "cell_type": "code",
      "execution_count": 13,
      "metadata": {},
      "outputs": [],
      "source": [
        "# @title  { display-mode: \"form\" }\n",
        "\n",
        "final_cells_df_copy = final_cells_df.copy()\n",
        "rna_df_copy = rna_df.copy()\n",
        "filtered_rna_df_copy = filtered_rna_df.copy()\n",
        "\n",
        "if sum(final_cells_df_copy['organelle_far_colocalized']) == 0:\n",
        "    final_cells_df_copy.drop(columns = ['organelle_far_colocalized', 'organelle_near_colocalized'], inplace = True)\n",
        "    rna_df_copy.drop(columns = ['organelle_far_colocalized', 'organelle_near_colocalized'], inplace = True)\n",
        "    filtered_rna_df_copy.drop(columns = ['organelle_far_colocalized', 'organelle_near_colocalized'], inplace = True)\n",
        "\n",
        "stats_df = pd.DataFrame()\n",
        "for idx, treatment in enumerate(filtered_cells_df['treatment'].unique()):\n",
        "    stats_df.loc[idx, 'Feature'] = treatment\n",
        "    stats_df.loc[idx, 'Number of cells before filtering'] = len(coverages_df[coverages_df['treatment']==treatment])\n",
        "    stats_df.loc[idx, 'Number of cells after filtering'] = len(filtered_cells_df[filtered_cells_df['treatment']==treatment])\n",
        "    stats_df.loc[idx, 'Percentage of positive cells'] = stats_df.loc[idx, 'Number of cells after filtering']/stats_df.loc[idx, 'Number of cells before filtering']*100\n",
        "    stats_df.loc[idx, 'mean proportion of organelle localization'] = final_cells_df_copy[final_cells_df_copy['treatment']==treatment]['colocalized'].mean()\n",
        "    stats_df.loc[idx, 'standard deviation proportion of organelle localization'] = final_cells_df_copy[final_cells_df_copy['treatment']==treatment]['colocalized'].std()\n",
        "    stats_df.loc[idx, 'standard error proportion of organelle localization'] = scipy.stats.sem(final_cells_df_copy[final_cells_df_copy['treatment']==treatment]['colocalized'])\n",
        "    stats_df.loc[idx, 'mean proportion of non-organelle localization'] = final_cells_df_copy[final_cells_df_copy['treatment']==treatment]['not_colocalized'].mean()\n",
        "    stats_df.loc[idx, 'standard deviation proportion of non-organelle localization'] = final_cells_df_copy[final_cells_df_copy['treatment']==treatment]['not_colocalized'].std()\n",
        "    stats_df.loc[idx, 'standard error proportion of non-organelle localization'] = scipy.stats.sem(final_cells_df_copy[final_cells_df_copy['treatment']==treatment]['not_colocalized'])\n",
        "\n",
        "    if sum(final_cells_df['organelle_far_colocalized'])>0:\n",
        "        stats_df.loc[idx, 'mean proportion of organelle near localization'] = final_cells_df_copy[final_cells_df_copy['treatment']==treatment]['organelle_near_colocalized'].mean()\n",
        "        stats_df.loc[idx, 'standard deviation proportion of organelle near localization'] = final_cells_df_copy[final_cells_df_copy['treatment']==treatment]['organelle_near_colocalized'].std()\n",
        "        stats_df.loc[idx, 'standard error proportion of organelle near localization'] = scipy.stats.sem(final_cells_df_copy[final_cells_df_copy['treatment']==treatment]['organelle_near_colocalized'])\n",
        "        stats_df.loc[idx, 'mean proportion of organelle far localization'] = final_cells_df_copy[final_cells_df_copy['treatment']==treatment]['organelle_far_colocalized'].mean()\n",
        "        stats_df.loc[idx, 'standard deviation proportion of organelle far localization'] = final_cells_df_copy[final_cells_df_copy['treatment']==treatment]['organelle_far_colocalized'].std()\n",
        "        stats_df.loc[idx, 'standard error proportion of organelle far localization'] = scipy.stats.sem(final_cells_df_copy[final_cells_df_copy['treatment']==treatment]['organelle_far_colocalized'])\n",
        "\n",
        "    stats_df.loc[idx, 'mean mRNA signals per cell'] = final_cells_df_copy[final_cells_df_copy['treatment']==treatment]['rna_count'].mean()\n",
        "    stats_df.loc[idx, 'standard deviation mRNA signals per cell'] = final_cells_df_copy[final_cells_df_copy['treatment']==treatment]['rna_count'].std()\n",
        "    stats_df.loc[idx, 'standard error mRNA signals per cell'] = scipy.stats.sem(final_cells_df_copy[final_cells_df_copy['treatment']==treatment]['rna_count'])\n",
        "    stats_df.loc[idx, 'mean organelle coverage'] = final_cells_df_copy[final_cells_df_copy['treatment']==treatment]['filtered_mean_organelle_coverage'].mean()\n",
        "    stats_df.loc[idx, 'standard deviation organelle coverage'] = final_cells_df_copy[final_cells_df_copy['treatment']==treatment]['filtered_mean_organelle_coverage'].std()\n",
        "    stats_df.loc[idx, 'standard error organelle coverage'] = scipy.stats.sem(final_cells_df_copy[final_cells_df_copy['treatment']==treatment]['filtered_mean_organelle_coverage'])\n",
        "    stats_df.loc[idx, 'Pearson correlation mean organelle coverages vs organelle localizations'] = scipy.stats.pearsonr(final_cells_df_copy[final_cells_df_copy['treatment']==treatment]['filtered_mean_organelle_coverage'], final_cells_df_copy[final_cells_df_copy['treatment']==treatment]['colocalized'])[0]\n",
        "    stats_df.loc[idx, 'Correlation pvalue mean organelle coverages vs organelle localizations'] =  scipy.stats.pearsonr(final_cells_df_copy[final_cells_df_copy['treatment']==treatment]['filtered_mean_organelle_coverage'], final_cells_df_copy[final_cells_df_copy['treatment']==treatment]['colocalized'])[1]\n",
        "    stats_df.loc[idx, 'Pearson correlation mean mRNA signals vs organelle localizations'] = scipy.stats.pearsonr(final_cells_df_copy[final_cells_df_copy['treatment']==treatment]['rna_count'], final_cells_df_copy[final_cells_df_copy['treatment']==treatment]['colocalized'])[0]\n",
        "    stats_df.loc[idx, 'Correlation pvalue mean mRNA signals vs organelle localizations'] =  scipy.stats.pearsonr(final_cells_df_copy[final_cells_df_copy['treatment']==treatment]['rna_count'], final_cells_df_copy[final_cells_df_copy['treatment']==treatment]['colocalized'])[1]\n",
        "\n",
        "os.makedirs(os.path.join(path, 'Tables'), exist_ok=True)\n",
        "if len(final_cells_df_copy['treatment'].unique()) > 1:\n",
        "    stats_columns = [col for col in final_cells_df_copy.columns if 'local' in col] + list(['rna_count', 'filtered_mean_organelle_coverage'])\n",
        "    tukey_list = []\n",
        "    for column in stats_columns:\n",
        "        comparison_list_list = list(final_cells_df_copy[final_cells_df_copy['treatment']==treatment][column] for treatment in final_cells_df_copy['treatment'].unique())\n",
        "        statistic, pvalue = scipy.stats.f_oneway(*comparison_list_list)\n",
        "        stats_df[f'ANOVA (one-way) {column} pvalue'] = pvalue\n",
        "        stats_df[f'ANOVA (one-way) {column} statistic'] = statistic\n",
        "        tukey_result = pairwise_tukeyhsd(endog=final_cells_df_copy[column], groups=final_cells_df_copy['treatment'], alpha=0.05)\n",
        "        tukey_temp = pd.DataFrame(data=tukey_result.summary().data[1:], columns=tukey_result.summary().data[0])\n",
        "        tukey_temp['comparison'] = column\n",
        "        tukey_list.append(tukey_temp)\n",
        "    tukey_df=pd.concat(tukey_list).reset_index(drop=True)\n",
        "    tukey_col =  tukey_df['comparison'].copy()\n",
        "    tukey_df.drop(columns='comparison', inplace=True)\n",
        "    tukey_df.insert(0, 'comparison', tukey_col)\n",
        "    \n",
        "    stats_df.to_csv(os.path.join(path, 'Tables', 'statistics_summary.csv'), index=False, header=True)\n",
        "    tukey_df.to_csv(os.path.join(path, 'Tables', 'tukey_summary.csv'), index=False, header=True)\n",
        "\n",
        "final_cells_df_copy.to_csv(os.path.join(path, 'Tables', 'filtered_cells_df.csv'), index=False, header=True)\n",
        "rna_df_copy.to_csv(os.path.join(path, 'Tables', 'unfiltered_rna_df.csv'), header=True)\n",
        "filtered_rna_df_copy.to_csv(os.path.join(path, 'Tables', 'filtered_rna_df.csv'), header=True)"
      ]
    },
    {
      "cell_type": "markdown",
      "metadata": {
        "id": "XSTwBumNcayo"
      },
      "source": [
        "Thank you for using the EASI-ORC data analysis tool. For any questions or comments, please contact the author of this tool, Liav Levavi, at liav.levavi@weizmann.ac.il."
      ]
    }
  ],
  "metadata": {
    "colab": {
      "provenance": []
    },
    "kernelspec": {
      "display_name": "Python 3",
      "name": "python3"
    },
    "language_info": {
      "codemirror_mode": {
        "name": "ipython",
        "version": 3
      },
      "file_extension": ".py",
      "mimetype": "text/x-python",
      "name": "python",
      "nbconvert_exporter": "python",
      "pygments_lexer": "ipython3",
      "version": "3.12.4"
    }
  },
  "nbformat": 4,
  "nbformat_minor": 0
}
